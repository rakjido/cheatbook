{
 "cells": [
  {
   "cell_type": "markdown",
   "metadata": {},
   "source": [
    "# Jupyter Notebook 정리"
   ]
  },
  {
   "cell_type": "markdown",
   "metadata": {},
   "source": [
    "## 1. 단축키 정리"
   ]
  },
  {
   "cell_type": "markdown",
   "metadata": {},
   "source": [
    "We recommend learning the command mode shortcuts in the following rough order: \n",
    "1. Basic navigation: enter, shift-enter, up/k, down/j\n",
    "2. Saving the notebook: s\n",
    "3. Change Cell types: y, m, 1-6, t \n",
    "4. Cell creation: a, b\n",
    "5. Cell editing: x, c, v, d, z\n",
    "6. Kernel operations: i, 0 (press twice)  i를 두번 누르면 해당 cell의 run을 interrupt할 수 있다"
   ]
  },
  {
   "cell_type": "markdown",
   "metadata": {},
   "source": [
    "## 2. Markdown 정리"
   ]
  },
  {
   "cell_type": "markdown",
   "metadata": {
    "collapsed": true
   },
   "source": [
    "[마크다운 문법 작성 팁](http://hashcode.co.kr/questions/1772/마크다운-문법-작성-팁)"
   ]
  },
  {
   "cell_type": "markdown",
   "metadata": {
    "collapsed": true
   },
   "source": [
    "[Ultimate Guide to Markdown](https://blog.ghost.org/markdown/)"
   ]
  },
  {
   "cell_type": "markdown",
   "metadata": {
    "collapsed": true
   },
   "source": [
    "# 제목 1\n",
    "## 제목 2\n",
    "### 제목 3\n",
    "#### 제목 4\n",
    "##### 제목 5"
   ]
  },
  {
   "cell_type": "markdown",
   "metadata": {},
   "source": [
    "## 3. Latex 정리"
   ]
  },
  {
   "cell_type": "markdown",
   "metadata": {
    "collapsed": true
   },
   "source": [
    "[http://tex.loria.fr/general/mil.pdf](http://tex.loria.fr/general/mil.pdf)"
   ]
  },
  {
   "cell_type": "markdown",
   "metadata": {
    "collapsed": true
   },
   "source": [
    "[https://github.com/STOM-Group/LaTeX-Paper-Template/blob/master/template.pdf](https://github.com/STOM-Group/LaTeX-Paper-Template/blob/master/template.pdf)"
   ]
  },
  {
   "cell_type": "markdown",
   "metadata": {},
   "source": [
    "[http://www.maths.tcd.ie/~dwilkins/LaTeXPrimer/Calculus.html](http://www.maths.tcd.ie/~dwilkins/LaTeXPrimer/Calculus.html)\n",
    "\n",
    "### 합\n",
    "$$ \\sum_{j=1}^{n} x_{j} y_{j} = x_1 y_1 + x_2 y_2 + \\cdots + x_n y_n $$\n",
    "\n",
    "### 행렬\n",
    "\n",
    "$$\\left( \\begin{array}{ccc}\n",
    "a & b & c \\\\\n",
    "d & e & f \\\\\n",
    "g & h & i \\end{array} \\right)$$\n",
    "\n",
    "\n",
    "$$\\chi(lambda) = \\left| \\begin{array}{ccc}\n",
    "a & b & c \\\\\n",
    "d & e & f \\\\\n",
    "g & h & i \\end{array} \\right|$$\n",
    "\n",
    "\n",
    "$$h(x) = \\begin{cases}\n",
    "  x, & (\\text{if } x > 0), \\\\\n",
    "  0, & (\\text{if } x \\leq 0)\n",
    "                \\end{cases}$$\n",
    "              \n",
    "### 미분\n",
    "\n",
    "$$ \\frac{\\partial u}{\\partial t} = h^2 \\left( \\frac{\\partial^2 u}{\\partial x^2}\n",
    "                                            + \\frac{\\partial^2 u}{\\partial y^2}\n",
    "\\right) $$\n",
    "\n",
    "\n",
    "### 적분\n",
    "\n",
    "$$ \\int_0^{+\\infty} x^n e^{-x} \\, dx = n! $$"
   ]
  },
  {
   "cell_type": "markdown",
   "metadata": {},
   "source": [
    "### Greek Letters\n",
    "\n",
    "* $\\alpha$     alpha\n",
    "* $\\beta$      beta\n",
    "* $\\gamma$     gamma\n",
    "* $\\delta$     delta\n",
    "* $\\epsilon$   epsilon\n",
    "* $\\zeta$      zeta\n",
    "* $\\eta$       eta\n",
    "* $\\theta$     theta\n",
    "\n",
    "* $\\iota$      iota\n",
    "* $\\kappa$     kappa\n",
    "* $\\lambda$    lambda\n",
    "* $\\mu$        mu\n",
    "* $\\nu$        nu\n",
    "* $\\xi$        xi\n",
    "* $\\pi$        pi\n",
    "* $\\rho$       rho\n",
    "\n",
    "* $\\sigma$     sigma\n",
    "* $\\tau$       tau\n",
    "* $\\upsilon$   upsilon\n",
    "* $\\phi$       phi\n",
    "* $\\chi$       chi\n",
    "* $\\psi$       psi\n",
    "* $\\omega$     omega\n",
    "\n",
    "\n",
    "* $\\Gamma$     Gamma\n",
    "* $\\Delta$     Delta\n",
    "* $\\Theta$     Theta\n",
    "* $\\Lambda$    Lambda\n",
    "\n",
    "* $\\Xi$        Xi\n",
    "* $\\Pi$        Pi\n",
    "* $\\Sigma$     Sigma\n",
    "* $\\Upsilon$   Upsilon\n",
    "\n",
    "\n",
    "* $\\Phi$       Phi\n",
    "* $\\Psi$       Psi\n",
    "* $\\Omega$     Omega\n"
   ]
  },
  {
   "cell_type": "markdown",
   "metadata": {},
   "source": [
    "### Methematical Symbols\n",
    "\n",
    "[http://www.maths.tcd.ie/~dwilkins/LaTeXPrimer/MathSymb.html](http://www.maths.tcd.ie/~dwilkins/LaTeXPrimer/MathSymb.html)"
   ]
  },
  {
   "cell_type": "code",
   "execution_count": null,
   "metadata": {
    "collapsed": true
   },
   "outputs": [],
   "source": []
  }
 ],
 "metadata": {
  "anaconda-cloud": {},
  "kernelspec": {
   "display_name": "Python 3",
   "language": "python",
   "name": "python3"
  },
  "language_info": {
   "codemirror_mode": {
    "name": "ipython",
    "version": 3
   },
   "file_extension": ".py",
   "mimetype": "text/x-python",
   "name": "python",
   "nbconvert_exporter": "python",
   "pygments_lexer": "ipython3",
   "version": "3.6.4"
  }
 },
 "nbformat": 4,
 "nbformat_minor": 1
}
